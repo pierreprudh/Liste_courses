{
 "cells": [
  {
   "attachments": {},
   "cell_type": "markdown",
   "metadata": {},
   "source": [
    "<div style=\"background-image: linear-gradient(to right, #4b4cff , #00d4ff); text-align: center; padding: 50px;\">\n",
    "  <h1 style=\"font-family: 'Segoe UI', Tahoma, Geneva, Verdana, sans-serif; font-size: 48px; color: white; text-shadow: 2px 2px #4b4cff;\">\n",
    "  Groceries Prevision\n",
    "  </h1>\n",
    "</div>"
   ]
  },
  {
   "attachments": {},
   "cell_type": "markdown",
   "metadata": {},
   "source": [
    "![header](header.webp)"
   ]
  },
  {
   "attachments": {},
   "cell_type": "markdown",
   "metadata": {},
   "source": [
    "<h2 style=\"color:#f7ce5b; font-family: Arial, sans-serif; font-size: 40px; margin-top: 50px; border-bottom: 2px solid #f7ce5b;\">\n",
    "Library\n",
    "</h2>"
   ]
  },
  {
   "cell_type": "code",
   "execution_count": 88,
   "metadata": {},
   "outputs": [],
   "source": [
    "from PIL import Image, ImageTk\n",
    "import tkinter as tk\n",
    "import pandas as pd \n",
    "import matplotlib.pyplot as plt \n",
    "import ipywidgets as widgets\n",
    "from collections import Counter\n",
    "from ipywidgets import interact, Dropdown, Output\n",
    "from IPython.display import clear_output"
   ]
  },
  {
   "attachments": {},
   "cell_type": "markdown",
   "metadata": {},
   "source": [
    "<h2 style=\"color:#f7ce5b; font-family: Arial, sans-serif; font-size: 40px; margin-top: 50px; border-bottom: 2px solid #f7ce5b;\">\n",
    "Data\n",
    "</h2>"
   ]
  },
  {
   "cell_type": "code",
   "execution_count": 143,
   "metadata": {},
   "outputs": [],
   "source": [
    "columns =['Mains', 'Side', 'Sauces', 'Assaisonnement', 'Epices', 'Gateau', 'Dessert', 'Boisson', 'FruitLegume', 'Accompagnement']\n",
    "Mains = ['Poulet', 'Steak', 'Poisson', 'Raviolis', 'Lardons']\n",
    "Side = ['Pattates', 'Riz', 'Pates', 'Nouilles', 'PatesRiz']\n",
    "Sauces= ['Soja', 'Thai', 'Coco', 'Tabasco']\n",
    "Assaisonnement = ['Ail', 'Ognions', 'Echalottes']\n",
    "Epices = ['Aromat', 'Oriental', 'Curry']\n",
    "Gateau = ['Ecolier', 'Cookie', 'TarteletteFraise', 'Muesli']\n",
    "Dessert = ['FromageBlanc', 'Compotes']\n",
    "Boisson = ['Innocent', 'Danao', 'Yop', 'Cannette']\n",
    "FruitLegume = ['Banannes', 'Tomates']\n",
    "Accompagnement = ['CremeFraiche', 'Oeufs']\n",
    "\n",
    "data_dict = {'Main': Mains, 'Side': Side, 'Sauces': Sauces, 'Assaisonnement': Assaisonnement, 'Epices': Epices,\n",
    "             'Gateau': Gateau, 'Dessert': Dessert, 'Boisson': Boisson, 'Fruit/Legume': FruitLegume, 'Accompagnement': Accompagnement}\n",
    "\n",
    "ingredients = Mains + Side + Sauces + Assaisonnement + Epices + Gateau + Dessert + Boisson + FruitLegume + Accompagnement\n",
    "data_ingr = pd.DataFrame(0, index=pd.Index(ingredients, name='Ingrédients'), columns=columns)\n",
    "\n",
    "# Parcourir chaque colonne et marquer la présence d'ingrédients avec un 1\n",
    "for col in columns:\n",
    "    for ingredient in eval(col):\n",
    "        data_ingr.loc[ingredient, col] = 1\n",
    "\n",
    "data_ingr['Util'] = [3,2,1,2,2,4,10,5,3,2,3,10,1,5,10,2,1,10,10,10,1,1,1,5,3,6,1,1,1,1,6,1,1,6]"
   ]
  },
  {
   "cell_type": "code",
   "execution_count": 14,
   "metadata": {},
   "outputs": [],
   "source": [
    "plats = {\n",
    "    'Riz Poulet Soja': ['Riz', 'Poulet', 'Soja', 'Echalottes', 'Thai', 'Oriental'],\n",
    "    'Riz Raviolis': ['Riz', 'Raviolis', 'Thai'],\n",
    "    'Poulet Pattates': ['Poulet', 'Pattates', 'Ognions', 'Aromat', 'Thai'],\n",
    "    'Steak Pattates': ['Steak', 'Pattates', 'Ognions', 'Aromat', 'Thai'],\n",
    "    'Riz Cantonais' : ['Riz', 'Oeufs', 'Lardons', 'Soja', 'Ail', 'Ognions' ],\n",
    "    'Pates Curry' : ['Pates', 'Lardons', 'CremeFraiche', 'Curry', 'Lardons'], \n",
    "    'Bol Fromage' : ['FromageBlanc', 'Compotes'], \n",
    "    'Bol Complet' : ['FromageBlanc', 'Compotes', 'Muesli']\n",
    "}"
   ]
  },
  {
   "attachments": {},
   "cell_type": "markdown",
   "metadata": {},
   "source": [
    "<h2 style=\"color:#f7ce5b; font-family: Arial, sans-serif; font-size: 40px; margin-top: 50px; border-bottom: 2px solid #f7ce5b;\">\n",
    "Few Tests\n",
    "</h2>"
   ]
  },
  {
   "cell_type": "code",
   "execution_count": 45,
   "metadata": {},
   "outputs": [
    {
     "data": {
      "application/vnd.jupyter.widget-view+json": {
       "model_id": "d14b9a96f8f2431a8389341173ac9c18",
       "version_major": 2,
       "version_minor": 0
      },
      "text/plain": [
       "Dropdown(description='Nombre de repas:', options=(1, 2, 3, 4, 5, 6, 7, 8, 9, 10, 11, 12, 13, 14), value=1)"
      ]
     },
     "metadata": {},
     "output_type": "display_data"
    },
    {
     "name": "stdout",
     "output_type": "stream",
     "text": [
      "4\n",
      "2\n"
     ]
    }
   ],
   "source": [
    "num_meals_dropdown = widgets.Dropdown(\n",
    "    options=list(range(1, 15)),  # Options de 1 à 10\n",
    "    description='Nombre de repas:',\n",
    "    value=1  # Valeur par défaut\n",
    ")\n",
    "display(num_meals_dropdown)\n",
    "\n",
    "def on_num_meals_change(change):\n",
    "    print(change.new)\n",
    "    \n",
    "num_meals_dropdown.observe(on_num_meals_change, names='value')"
   ]
  },
  {
   "attachments": {},
   "cell_type": "markdown",
   "metadata": {},
   "source": [
    "<h2 style=\"color:#f7ce5b; font-family: Arial, sans-serif; font-size: 40px; margin-top: 50px; border-bottom: 2px solid #f7ce5b;\">\n",
    "Program\n",
    "</h2>"
   ]
  },
  {
   "attachments": {},
   "cell_type": "markdown",
   "metadata": {},
   "source": [
    "<h3 style=\"color:#c38d9e; font-family: Arial, sans-serif; font-size: 24px; margin-top: 40px; text-align: center;\">\n",
    "get_ingredients\n",
    "</h3>"
   ]
  },
  {
   "cell_type": "code",
   "execution_count": 74,
   "metadata": {},
   "outputs": [],
   "source": [
    "def get_ingredients(plats_selectionnes):\n",
    "    ingredients = []\n",
    "    for plat in plats_selectionnes:\n",
    "        ingredients.extend(plats[plat])\n",
    "    return ingredients"
   ]
  },
  {
   "attachments": {},
   "cell_type": "markdown",
   "metadata": {},
   "source": [
    "<h3 style=\"color:#c38d9e; font-family: Arial, sans-serif; font-size: 24px; margin-top: 40px; text-align: center;\">\n",
    "get_ingredients\n",
    "</h3>"
   ]
  },
  {
   "cell_type": "code",
   "execution_count": 144,
   "metadata": {},
   "outputs": [],
   "source": [
    "def select_meals(num_meals):\n",
    "    options = list(plats.keys())\n",
    "    meals_dropdowns = [Dropdown(options=options, description=f\"Plat {i}:\") for i in range(1, num_meals+1)]\n",
    "    display(*meals_dropdowns)\n",
    "    return meals_dropdowns"
   ]
  },
  {
   "attachments": {},
   "cell_type": "markdown",
   "metadata": {},
   "source": [
    "<h3 style=\"color:#c38d9e; font-family: Arial, sans-serif; font-size: 24px; margin-top: 40px; text-align: center;\">\n",
    "start_selection\n",
    "</h3>"
   ]
  },
  {
   "cell_type": "code",
   "execution_count": 147,
   "metadata": {},
   "outputs": [
    {
     "data": {
      "application/vnd.jupyter.widget-view+json": {
       "model_id": "36828c178d774c1589e640f7af1a2229",
       "version_major": 2,
       "version_minor": 0
      },
      "text/plain": [
       "Dropdown(description='Nombre de repas:', options=(1, 2, 3, 4, 5, 6, 7, 8, 9, 10, 11, 12, 13, 14, 15), value=1)"
      ]
     },
     "metadata": {},
     "output_type": "display_data"
    },
    {
     "data": {
      "application/vnd.jupyter.widget-view+json": {
       "model_id": "b422752b16a64612b3e9deb572a79e52",
       "version_major": 2,
       "version_minor": 0
      },
      "text/plain": [
       "Output()"
      ]
     },
     "metadata": {},
     "output_type": "display_data"
    },
    {
     "data": {
      "application/vnd.jupyter.widget-view+json": {
       "model_id": "cf9d850cfa1f46409bce4d7ff3a88f13",
       "version_major": 2,
       "version_minor": 0
      },
      "text/plain": [
       "interactive(children=(Dropdown(description='Nombre de repas:', options=(1, 2, 3, 4, 5, 6, 7, 8, 9, 10, 11, 12,…"
      ]
     },
     "metadata": {},
     "output_type": "display_data"
    }
   ],
   "source": [
    "def on_value_change(change):\n",
    "    with output:\n",
    "        clear_output(wait=True)\n",
    "        plats_selectionnes = [dropdown.value for dropdown in meals_dropdowns]\n",
    "        ingredients = get_ingredients(plats_selectionnes)\n",
    "    return ingredients\n",
    "\n",
    "num_meals_dropdown = Dropdown(options=[1, 2, 3, 4, 5, 6, 7, 8, 9, 10, 11, 12, 13, 14,15], description=\"Nombre de repas:\")\n",
    "output = Output()\n",
    "\n",
    "def start_selection(num_meals):\n",
    "    global meals_dropdowns\n",
    "    meals_dropdowns = select_meals(num_meals)\n",
    "    for dropdown in meals_dropdowns:\n",
    "        dropdown.observe(on_value_change, names='value')\n",
    "\n",
    "display(num_meals_dropdown)\n",
    "display(output)\n",
    "\n",
    "interact(start_selection, num_meals=num_meals_dropdown);\n"
   ]
  },
  {
   "attachments": {},
   "cell_type": "markdown",
   "metadata": {},
   "source": [
    "<h3 style=\"color:#c38d9e; font-family: Arial, sans-serif; font-size: 24px; margin-top: 40px; text-align: center;\">\n",
    "counter_pack\n",
    "</h3>"
   ]
  },
  {
   "cell_type": "code",
   "execution_count": 150,
   "metadata": {},
   "outputs": [],
   "source": [
    "def counter_pack(plats_selectionnes):\n",
    "    ingredients = get_ingredients(plats_selectionnes)\n",
    "\n",
    "    count_ingr = Counter(ingredients)\n",
    "    nb_final_ingr = []\n",
    "\n",
    "    for ingr, count in count_ingr.items():\n",
    "        nb_utilisations = data_ingr.loc[ingr, 'Util']\n",
    "        if count < nb_utilisations:\n",
    "            nb_packs = 1\n",
    "        else:\n",
    "            nb_packs = count // nb_utilisations\n",
    "            if count % nb_utilisations != 0:\n",
    "                nb_packs += 1\n",
    "        nb_final_ingr.append((nb_packs, ingr))\n",
    "\n",
    "    return nb_final_ingr"
   ]
  },
  {
   "attachments": {},
   "cell_type": "markdown",
   "metadata": {},
   "source": [
    "<h3 style=\"color:#c38d9e; font-family: Arial, sans-serif; font-size: 24px; margin-top: 40px; text-align: center;\">\n",
    "format_ouput\n",
    "</h3>"
   ]
  },
  {
   "cell_type": "code",
   "execution_count": 154,
   "metadata": {},
   "outputs": [],
   "source": [
    "def format_output(results):\n",
    "    output = ''\n",
    "    for nb_packs, ingredient in results:\n",
    "        output += f\"Il faut acheter {nb_packs} pack(s) de {ingredient}(s).\\n\"\n",
    "    return output\n",
    "\n",
    "final_results = counter_pack([dropdown.value for dropdown in meals_dropdowns])"
   ]
  },
  {
   "attachments": {},
   "cell_type": "markdown",
   "metadata": {},
   "source": [
    "<h2 style=\"color:#f7ce5b; font-family: Arial, sans-serif; font-size: 40px; margin-top: 50px; border-bottom: 2px solid #f7ce5b;\">\n",
    "Export\n",
    "</h2>"
   ]
  },
  {
   "cell_type": "code",
   "execution_count": 153,
   "metadata": {},
   "outputs": [],
   "source": [
    "body = '\\n'.join([f\"{x[0]} pack(s) de {x[1]}\" for x in final_results])\n",
    "\n",
    "with open('./List/output.txt', 'w') as f:\n",
    "    f.write(body)"
   ]
  }
 ],
 "metadata": {
  "kernelspec": {
   "display_name": "base",
   "language": "python",
   "name": "python3"
  },
  "language_info": {
   "codemirror_mode": {
    "name": "ipython",
    "version": 3
   },
   "file_extension": ".py",
   "mimetype": "text/x-python",
   "name": "python",
   "nbconvert_exporter": "python",
   "pygments_lexer": "ipython3",
   "version": "3.9.7"
  },
  "orig_nbformat": 4
 },
 "nbformat": 4,
 "nbformat_minor": 2
}
